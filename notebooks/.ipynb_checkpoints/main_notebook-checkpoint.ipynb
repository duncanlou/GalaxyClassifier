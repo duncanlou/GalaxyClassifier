{
 "cells": [
  {
   "cell_type": "code",
   "execution_count": 1,
   "metadata": {
    "collapsed": true
   },
   "outputs": [],
   "source": [
    "import os\n",
    "\n",
    "import torch\n",
    "import torchvision.utils\n",
    "from matplotlib import pyplot as plt\n",
    "from torch import nn\n",
    "from torch.utils.data import DataLoader, random_split\n",
    "from torch.utils.tensorboard import SummaryWriter\n",
    "from torchvision import transforms\n",
    "\n",
    "import d2l.torch\n",
    "\n",
    "writer = SummaryWriter('runs/astronomical_sources_classifier')\n",
    "\n",
    "# import from local project\n",
    "import utils\n",
    "from FitsImageFolder import FitsImageFolder"
   ]
  },
  {
   "cell_type": "code",
   "execution_count": 8,
   "metadata": {
    "pycharm": {
     "name": "#%%\n"
    }
   },
   "outputs": [
    {
     "name": "stdout",
     "output_type": "stream",
     "text": [
      "torch version:  1.10.1+cu102\n"
     ]
    }
   ],
   "source": [
    "print(\"torch version: \", torch.__version__)\n",
    "\n",
    "src_root_path = os.path.join(\"/home/duncan/PycharmProjects/MyResearchProject_Duncan\", \"data/sources\")\n",
    "\n",
    "device = torch.device(\"cuda:0\" if torch.cuda.is_available() else \"cpu\")"
   ]
  },
  {
   "cell_type": "code",
   "execution_count": 4,
   "metadata": {
    "pycharm": {
     "name": "#%%\n"
    }
   },
   "outputs": [],
   "source": [
    "data_transforms = {\n",
    "    'train': transforms.Compose([\n",
    "        transforms.ToTensor(),\n",
    "        transforms.RandomHorizontalFlip(),\n",
    "        transforms.RandomRotation(degrees=45)]),\n",
    "    'val': transforms.Compose([\n",
    "        transforms.ToTensor(),\n",
    "    ])\n",
    "}"
   ]
  },
  {
   "cell_type": "code",
   "execution_count": 9,
   "metadata": {
    "pycharm": {
     "name": "#%%\n"
    }
   },
   "outputs": [
    {
     "name": "stdout",
     "output_type": "stream",
     "text": [
      "Full set size: 76144\n",
      "Train set size:  60915\n",
      "Validation set size:  7614\n",
      "Test set size:  7615\n",
      "['GALAXY', 'QSO', 'STAR']\n"
     ]
    }
   ],
   "source": [
    "dataset = FitsImageFolder(root=src_root_path, transform=data_transforms['train'])\n",
    "train_set_size = int(len(dataset) * 0.8)\n",
    "validation_set_size = int(len(dataset) * 0.1)\n",
    "test_set_size = len(dataset) - train_set_size - validation_set_size\n",
    "train_set, validation_set, test_set = random_split(dataset, [train_set_size, validation_set_size, test_set_size])\n",
    "\n",
    "training_loader = DataLoader(\n",
    "    train_set,\n",
    "    batch_size=16,\n",
    "    shuffle=True,\n",
    "    num_workers=8\n",
    ")\n",
    "\n",
    "validation_loader = DataLoader(\n",
    "    validation_set,\n",
    "    batch_size=16,\n",
    "    shuffle=True,\n",
    "    num_workers=8\n",
    ")\n",
    "\n",
    "dataloaders = {'train': training_loader, 'val': validation_loader}\n",
    "\n",
    "print(\"Full set size:\", len(dataset))\n",
    "print(\"Train set size: \", train_set_size)\n",
    "print(\"Validation set size: \", validation_set_size)\n",
    "print(\"Test set size: \", test_set_size)\n",
    "\n",
    "class_names = dataset.classes\n",
    "print(class_names)"
   ]
  },
  {
   "cell_type": "code",
   "execution_count": 11,
   "metadata": {
    "pycharm": {
     "name": "#%%\n"
    }
   },
   "outputs": [],
   "source": [
    "dataiter = iter(training_loader)\n",
    "images, labels = dataiter.__next__()\n",
    "i = images[0][0]\n",
    "r = images[0][1]\n",
    "g = images[0][2]\n",
    "\n",
    "color_fits = torch.stack((i, r, g), dim=0)\n",
    "img_grid = torchvision.utils.make_grid(color_fits)\n",
    "writer.add_image('an fake rgb source image', img_grid)"
   ]
  },
  {
   "cell_type": "code",
   "execution_count": 12,
   "metadata": {
    "pycharm": {
     "name": "#%%\n"
    }
   },
   "outputs": [],
   "source": [
    "def train_model(model, lr, wd, lr_period, lr_decay, num_epochs=10):\n",
    "    optimizer = torch.optim.SGD(model.parameters(), lr=lr, momentum=0.9, weight_decay=wd)\n",
    "    criterion = nn.CrossEntropyLoss(reduction=\"none\")\n",
    "    # Decay LR by a factor of [gamma] every [step_size] epochs\n",
    "    scheduler = torch.optim.lr_scheduler.StepLR(optimizer, step_size=lr_period, gamma=lr_decay)\n",
    "    num_batches, timer = len(training_loader), d2l.torch.Timer()\n",
    "    legend = ['train loss', 'train acc', 'valid acc']\n",
    "    animator = d2l.torch.Animator(xlabel='epoch', xlim=[1, num_epochs], legend=legend)\n",
    "    devices = d2l.torch.try_all_gpus()\n",
    "    model = nn.DataParallel(model, device_ids=devices).to(devices[0])\n",
    "    for epoch in range(num_epochs):\n",
    "        model.train()\n",
    "        metric = d2l.torch.Accumulator(3)\n",
    "        for i, (inputs, labels) in enumerate(training_loader, 0):\n",
    "            timer.start()\n",
    "            l, acc = d2l.torch.train_batch_ch13(net=model, X=inputs, y=labels, loss=criterion,\n",
    "                                                trainer=optimizer, devices=devices)\n",
    "            metric.add(l, acc, labels.shape[0])\n",
    "            timer.stop()\n",
    "            if (i + 1) % (num_batches // 5) == 0 or i == num_batches - 1:\n",
    "                animator.add(x=epoch + (i + 1) / num_batches,\n",
    "                             y=(metric[0] / metric[2], metric[1] / metric[2], None))\n",
    "\n",
    "        valid_acc = d2l.torch.evaluate_accuracy_gpu(model, validation_loader)\n",
    "        animator.add(epoch + 1, (None, None, valid_acc))\n",
    "        scheduler.step()\n",
    "    measures = (f'train loss {metric[0] / metric[2]:.6f}, '\n",
    "                f'train acc {metric[1] / metric[2]:.6f}')\n",
    "\n",
    "    print(measures + f'\\n{metric[2] * num_epochs / timer.sum():.1f}'\n",
    "                     f' examples/sec on {str(devices)}')"
   ]
  },
  {
   "cell_type": "code",
   "execution_count": 13,
   "metadata": {
    "pycharm": {
     "name": "#%%\n"
    }
   },
   "outputs": [],
   "source": [
    "def test_accuracy(net):\n",
    "    testloader = DataLoader(test_set, batch_size=8, shuffle=False, num_workers=2)\n",
    "    confusion_matrix = torch.zeros(3, 3)\n",
    "    correct = 0\n",
    "    total = 0\n",
    "    net.eval()  # eval mode (batchnorm uses moving mean/variance instead of mini-batch mean/variance)\n",
    "    with torch.no_grad():\n",
    "        for data in testloader:\n",
    "            images, labels = data\n",
    "            images, labels = images.to(device), labels.to(device)\n",
    "            outputs = net(images)\n",
    "            _, predicted = torch.max(outputs.data, 1)\n",
    "            total += labels.size(0)\n",
    "            correct += (predicted == labels).sum().item()\n",
    "\n",
    "            for t, p in zip(labels.view(-1), predicted.view(-1)):\n",
    "                confusion_matrix[t.long(), p.long()] += 1\n",
    "\n",
    "    print(\"confusion_matrix: \", confusion_matrix)\n",
    "    print(confusion_matrix.diag() / confusion_matrix.sum(1))\n",
    "    print(\"accuracy over all: \", correct / total)\n",
    "    return correct / total"
   ]
  },
  {
   "cell_type": "code",
   "execution_count": 14,
   "metadata": {
    "pycharm": {
     "name": "#%%\n"
    }
   },
   "outputs": [],
   "source": [
    "def visualize_model(model, validation_dataloader, num_images=9):\n",
    "    was_training = model.training\n",
    "    model.eval()\n",
    "    images_so_far = 0\n",
    "    fig = plt.figure()\n",
    "\n",
    "    with torch.no_grad():\n",
    "        for i, (inputs, labels) in enumerate(validation_dataloader):\n",
    "            inputs = inputs.to(device)\n",
    "            labels = labels.to(device)\n",
    "\n",
    "            outputs = model(inputs)\n",
    "            _, preds = torch.max(outputs, 1)\n",
    "\n",
    "            for j in range(inputs.size()[0]):\n",
    "                images_so_far += 1\n",
    "                ax = plt.subplot(num_images // 3, 3, images_so_far)\n",
    "                ax.set_title('predicted: {}'.format(class_names[preds[j]]))\n",
    "                utils.showImages(inputs.cpu().data[j])\n",
    "\n",
    "                if images_so_far == num_images:\n",
    "                    model.train(mode=was_training)\n",
    "                    return\n",
    "        model.train(mode=was_training)\n"
   ]
  },
  {
   "cell_type": "code",
   "execution_count": null,
   "metadata": {
    "pycharm": {
     "is_executing": true,
     "name": "#%%\n"
    }
   },
   "outputs": [],
   "source": [
    "model = d2l.torch.resnet18(num_classes=3, in_channels=5)\n",
    "torch.cuda.empty_cache()\n",
    "train_model(model, lr=2e-4, wd=5e-4, lr_period=4, lr_decay=0.9, num_epochs=10)"
   ]
  },
  {
   "cell_type": "code",
   "execution_count": null,
   "metadata": {
    "pycharm": {
     "name": "#%%\n"
    }
   },
   "outputs": [],
   "source": []
  }
 ],
 "metadata": {
  "kernelspec": {
   "display_name": "Python 3 (ipykernel)",
   "language": "python",
   "name": "python3"
  },
  "language_info": {
   "codemirror_mode": {
    "name": "ipython",
    "version": 2
   },
   "file_extension": ".py",
   "mimetype": "text/x-python",
   "name": "python",
   "nbconvert_exporter": "python",
   "pygments_lexer": "ipython2",
   "version": "2.7.6"
  }
 },
 "nbformat": 4,
 "nbformat_minor": 1
}
